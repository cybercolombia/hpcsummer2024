{
 "cells": [
  {
   "cell_type": "markdown",
   "id": "bad706c1-2a27-4d9a-8199-d873fa9a935d",
   "metadata": {},
   "source": [
    "# <center>Advanced MPI</center>"
   ]
  },
  {
   "cell_type": "markdown",
   "id": "d43df52f",
   "metadata": {},
   "source": [
    "\n",
    "### Stencil Computations\n",
    "\n",
    "Iterative Stencil Loops (ISLs) or Stencil computations are a class of numerical data processing solution which update array elements according to some fixed pattern, called a stencil.They are most commonly found in computer simulations, e.g. for computational fluid dynamics in the context of scientific and engineering applications. Other notable examples include solving partial differential equations, the Jacobi kernel, the Gauss–Seidel method,image processing and cellular automata. \n",
    "\n",
    "The regular structure of the arrays sets stencil techniques apart from other modeling methods such as the Finite element method. Most finite difference codes which operate on regular grids can be formulated as ISLs.\n",
    "\n",
    "SLs perform a sequence of sweeps (called timesteps) through a given array. Generally this is a 2- or 3-dimensional regular grid. The elements of the arrays are often referred to as cells. In each timestep, all array elements are updated. Using neighboring array elements in a fixed pattern (the stencil), each cell's new value is computed. In most cases boundary values are left unchanged, but in some cases (e.g. LBM codes) those need to be adjusted during the computation as well. Since the stencil is the same for each element, the pattern of data accesses is repeated. Source [Wikipedia](https://en.wikipedia.org/wiki/Iterative_Stencil_Loops)\n",
    "\n",
    "<img src=\"https://upload.wikimedia.org/wikipedia/commons/thumb/e/e8/Von_Neumann_neighborhood.svg/800px-Von_Neumann_neighborhood.svg.png\" height=200px width=200px>"
   ]
  },
  {
   "cell_type": "markdown",
   "id": "4d65c297",
   "metadata": {},
   "source": [
    "## Basic Stencil Operation\n",
    "\n",
    "\n",
    "![Basic Stencil Operation](./img/stencil_basic.png)"
   ]
  },
  {
   "cell_type": "markdown",
   "id": "8e427263",
   "metadata": {},
   "source": [
    "# How to run MPI programs for the stencil codes \n",
    "\n",
    "### Step 1: Create and initialize the Grid \n",
    "\n",
    "```c++\n",
    "#define N 10  // Grid size\n",
    "#define ITERATIONS 100  // Number of iterations\n",
    "\n",
    "// Function to initialize the grid\n",
    "void initialize_grid(double grid[N][N]) {\n",
    "    for (int i = 0; i < N; i++) {\n",
    "        for (int j = 0; j < N; j++) {\n",
    "            grid[i][j] = rand() % 100;\n",
    "        }\n",
    "    }\n",
    "}\n",
    "```"
   ]
  },
  {
   "cell_type": "markdown",
   "id": "f2691e58",
   "metadata": {},
   "source": [
    "### Step 2: Define the stencil Step operation\n",
    "\n",
    "```c++\n",
    "// Function to perform the stencil computation\n",
    "void stencil_step(double grid[N][N], double new_grid[N][N]) {\n",
    "    for (int i = 1; i < N-1; i++) {\n",
    "        for (int j = 1; j < N-1; j++) {\n",
    "            new_grid[i][j] = 0.25 * (grid[i-1][j] + grid[i+1][j] + grid[i][j-1] + grid[i][j+1]);\n",
    "        }\n",
    "    }\n",
    "}\n",
    "```\n",
    "\n"
   ]
  },
  {
   "cell_type": "markdown",
   "id": "fec6aac1",
   "metadata": {},
   "source": [
    "### Step 3: Define how to copy the Grid \n",
    "```c++\n",
    "// Function to copy the new grid to the old grid\n",
    "void copy_grid(double dest[N][N], double src[N][N]) {\n",
    "    for (int i = 0; i < N; i++) {\n",
    "        for (int j = 0; j < N; j++) {\n",
    "            dest[i][j] = src[i][j];\n",
    "        }\n",
    "    }\n",
    "}\n",
    "\n",
    "```\n"
   ]
  },
  {
   "cell_type": "markdown",
   "id": "46cbc0da",
   "metadata": {},
   "source": [
    "### Step 4: Create the MPI process for running the stencil operation over the ranks\n",
    "\n",
    "```c++\n",
    "int main(int argc, char *argv[]) {\n",
    "    int rank, size;\n",
    "    MPI_Init(&argc, &argv);\n",
    "    MPI_Comm_rank(MPI_COMM_WORLD, &rank);\n",
    "    MPI_Comm_size(MPI_COMM_WORLD, &size);\n",
    "\n",
    "    double grid[N][N], new_grid[N][N];\n",
    "    initialize_grid(grid);\n",
    "\n",
    "    for (int iter = 0; iter < ITERATIONS; iter++) {\n",
    "        stencil_step(grid, new_grid);\n",
    "        copy_grid(grid, new_grid);\n",
    "\n",
    "        // Exchange boundary rows between neighboring processes\n",
    "        if (rank > 0) {\n",
    "            MPI_Send(grid[1], N, MPI_DOUBLE, rank-1, 0, MPI_COMM_WORLD);\n",
    "            MPI_Recv(grid[0], N, MPI_DOUBLE, rank-1, 0, MPI_COMM_WORLD, MPI_STATUS_IGNORE);\n",
    "        }\n",
    "        if (rank < size-1) {\n",
    "            MPI_Send(grid[N-2], N, MPI_DOUBLE, rank+1, 0, MPI_COMM_WORLD);\n",
    "            MPI_Recv(grid[N-1], N, MPI_DOUBLE, rank+1, 0, MPI_COMM_WORLD, MPI_STATUS_IGNORE);\n",
    "        }\n",
    "    }\n",
    "\n",
    "    MPI_Finalize();\n",
    "    return 0;\n",
    "}\n",
    "```"
   ]
  },
  {
   "cell_type": "code",
   "execution_count": null,
   "id": "94e4c48a-2bf7-4664-ad86-812a5b2e1af6",
   "metadata": {},
   "outputs": [],
   "source": [
    "!mpicc code/basic_stencil.cpp -o basic_stencil.exe"
   ]
  },
  {
   "cell_type": "markdown",
   "id": "27c5502f-f786-4090-aba6-618479086184",
   "metadata": {},
   "source": [
    "#!srun -N 1 ./basic_stencil.exe\n",
    "#!ulimit -s 800000; srun -N 1 ./basic_stencil.exe"
   ]
  }
 ],
 "metadata": {
  "kernelspec": {
   "display_name": "Python 3 (ipykernel)",
   "language": "python",
   "name": "python3"
  },
  "language_info": {
   "codemirror_mode": {
    "name": "ipython",
    "version": 3
   },
   "file_extension": ".py",
   "mimetype": "text/x-python",
   "name": "python",
   "nbconvert_exporter": "python",
   "pygments_lexer": "ipython3",
   "version": "3.10.6"
  }
 },
 "nbformat": 4,
 "nbformat_minor": 5
}
