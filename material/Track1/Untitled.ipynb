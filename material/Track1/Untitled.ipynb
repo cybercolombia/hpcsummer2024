{
 "cells": [
  {
   "cell_type": "code",
   "execution_count": 1,
   "id": "bae41b02-0ec2-4f02-8114-6c7ff6d9ad30",
   "metadata": {},
   "outputs": [],
   "source": [
    "import cpplib\n",
    "\n",
    "cpplib.hello_world()"
   ]
  },
  {
   "cell_type": "code",
   "execution_count": 3,
   "id": "c7a433e0-fe58-4e16-91f5-ac1d0406b928",
   "metadata": {},
   "outputs": [
    {
     "name": "stdout",
     "output_type": "stream",
     "text": [
      "Hello World.\n",
      "Hello\n"
     ]
    }
   ],
   "source": [
    "!python3 test.py"
   ]
  },
  {
   "cell_type": "code",
   "execution_count": null,
   "id": "13931373-39cd-4e8b-aa3a-77432282672d",
   "metadata": {},
   "outputs": [],
   "source": []
  }
 ],
 "metadata": {
  "kernelspec": {
   "display_name": "Python 3 (ipykernel)",
   "language": "python",
   "name": "python3"
  },
  "language_info": {
   "codemirror_mode": {
    "name": "ipython",
    "version": 3
   },
   "file_extension": ".py",
   "mimetype": "text/x-python",
   "name": "python",
   "nbconvert_exporter": "python",
   "pygments_lexer": "ipython3",
   "version": "3.10.12"
  }
 },
 "nbformat": 4,
 "nbformat_minor": 5
}
