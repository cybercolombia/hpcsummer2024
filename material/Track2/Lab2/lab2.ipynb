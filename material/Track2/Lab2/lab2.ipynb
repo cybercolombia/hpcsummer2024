{
 "cells": [
  {
   "cell_type": "markdown",
   "metadata": {},
   "source": [
    "This lab is divided into two parts\n",
    "\n",
    "* [Lab 2.1](lab2.1.ipynb)\n",
    "* [Lab 2.2](lab2.2.ipynb)"
   ]
  }
 ],
 "metadata": {
  "language_info": {
   "name": "python"
  },
  "orig_nbformat": 4
 },
 "nbformat": 4,
 "nbformat_minor": 2
}
